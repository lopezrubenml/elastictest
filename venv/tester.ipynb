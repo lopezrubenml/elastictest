{
 "cells": [
  {
   "cell_type": "code",
   "execution_count": 26,
   "metadata": {},
   "outputs": [],
   "source": [
    "import pandas as pd\n",
    "from pandas import DataFrame\n",
    "import numpy as np\n",
    "from flask import jsonify"
   ]
  },
  {
   "cell_type": "code",
   "execution_count": 7,
   "metadata": {},
   "outputs": [],
   "source": [
    "df = pd.read_csv('C:\\\\Users\\\\rlopezlam\\\\Documents\\\\2018\\\\list_search\\\\base_part_1.csv')"
   ]
  },
  {
   "cell_type": "code",
   "execution_count": 15,
   "metadata": {},
   "outputs": [],
   "source": [
    "df_docs = df[~df.doc_number.isna()]\n",
    "df_docs= df_docs[['p_name','doc_number','resident']]"
   ]
  },
  {
   "cell_type": "code",
   "execution_count": 38,
   "metadata": {},
   "outputs": [
    {
     "data": {
      "text/html": [
       "<div>\n",
       "<style scoped>\n",
       "    .dataframe tbody tr th:only-of-type {\n",
       "        vertical-align: middle;\n",
       "    }\n",
       "\n",
       "    .dataframe tbody tr th {\n",
       "        vertical-align: top;\n",
       "    }\n",
       "\n",
       "    .dataframe thead th {\n",
       "        text-align: right;\n",
       "    }\n",
       "</style>\n",
       "<table border=\"1\" class=\"dataframe\">\n",
       "  <thead>\n",
       "    <tr style=\"text-align: right;\">\n",
       "      <th></th>\n",
       "      <th>p_name</th>\n",
       "      <th>doc_number</th>\n",
       "      <th>resident</th>\n",
       "    </tr>\n",
       "  </thead>\n",
       "  <tbody>\n",
       "    <tr>\n",
       "      <th>2</th>\n",
       "      <td>Muhammad Tahir</td>\n",
       "      <td>42201-0620020-3</td>\n",
       "      <td>Not Known</td>\n",
       "    </tr>\n",
       "    <tr>\n",
       "      <th>38</th>\n",
       "      <td>Boris Gromov</td>\n",
       "      <td>100109456</td>\n",
       "      <td>Russia</td>\n",
       "    </tr>\n",
       "    <tr>\n",
       "      <th>39</th>\n",
       "      <td>Boris Gromov</td>\n",
       "      <td>100059287</td>\n",
       "      <td>Russia</td>\n",
       "    </tr>\n",
       "    <tr>\n",
       "      <th>40</th>\n",
       "      <td>Boris Gromov</td>\n",
       "      <td>100082520</td>\n",
       "      <td>Russia</td>\n",
       "    </tr>\n",
       "    <tr>\n",
       "      <th>41</th>\n",
       "      <td>Boris Gromov</td>\n",
       "      <td>100047192</td>\n",
       "      <td>Russia</td>\n",
       "    </tr>\n",
       "    <tr>\n",
       "      <th>131</th>\n",
       "      <td>Tyson Anderson</td>\n",
       "      <td>W894384830</td>\n",
       "      <td>Not Known</td>\n",
       "    </tr>\n",
       "    <tr>\n",
       "      <th>181</th>\n",
       "      <td>Dardo Sánchez Cal</td>\n",
       "      <td>2.755.271-1</td>\n",
       "      <td>Uruguay</td>\n",
       "    </tr>\n",
       "    <tr>\n",
       "      <th>222</th>\n",
       "      <td>Aleksandr Burkov</td>\n",
       "      <td>6597000121</td>\n",
       "      <td>Russia</td>\n",
       "    </tr>\n",
       "    <tr>\n",
       "      <th>232</th>\n",
       "      <td>Ernest Woodard</td>\n",
       "      <td>W674053870</td>\n",
       "      <td>Not Known</td>\n",
       "    </tr>\n",
       "    <tr>\n",
       "      <th>331</th>\n",
       "      <td>Vladimir Shamanov</td>\n",
       "      <td>2968</td>\n",
       "      <td>Russia</td>\n",
       "    </tr>\n",
       "    <tr>\n",
       "      <th>332</th>\n",
       "      <td>Vladimir Shamanov</td>\n",
       "      <td>2968</td>\n",
       "      <td>Russia</td>\n",
       "    </tr>\n",
       "    <tr>\n",
       "      <th>333</th>\n",
       "      <td>Vladimir Shamanov</td>\n",
       "      <td>27692</td>\n",
       "      <td>Russia</td>\n",
       "    </tr>\n",
       "    <tr>\n",
       "      <th>334</th>\n",
       "      <td>Vladimir Shamanov</td>\n",
       "      <td>27692</td>\n",
       "      <td>Russia</td>\n",
       "    </tr>\n",
       "    <tr>\n",
       "      <th>335</th>\n",
       "      <td>Vladimir Shamanov</td>\n",
       "      <td>12966</td>\n",
       "      <td>Russia</td>\n",
       "    </tr>\n",
       "    <tr>\n",
       "      <th>336</th>\n",
       "      <td>Vladimir Shamanov</td>\n",
       "      <td>12966</td>\n",
       "      <td>Russia</td>\n",
       "    </tr>\n",
       "  </tbody>\n",
       "</table>\n",
       "</div>"
      ],
      "text/plain": [
       "                p_name       doc_number   resident\n",
       "2       Muhammad Tahir  42201-0620020-3  Not Known\n",
       "38        Boris Gromov        100109456     Russia\n",
       "39        Boris Gromov        100059287     Russia\n",
       "40        Boris Gromov        100082520     Russia\n",
       "41        Boris Gromov        100047192     Russia\n",
       "131     Tyson Anderson       W894384830  Not Known\n",
       "181  Dardo Sánchez Cal      2.755.271-1    Uruguay\n",
       "222   Aleksandr Burkov       6597000121     Russia\n",
       "232     Ernest Woodard       W674053870  Not Known\n",
       "331  Vladimir Shamanov             2968     Russia\n",
       "332  Vladimir Shamanov             2968     Russia\n",
       "333  Vladimir Shamanov            27692     Russia\n",
       "334  Vladimir Shamanov            27692     Russia\n",
       "335  Vladimir Shamanov            12966     Russia\n",
       "336  Vladimir Shamanov            12966     Russia"
      ]
     },
     "execution_count": 38,
     "metadata": {},
     "output_type": "execute_result"
    }
   ],
   "source": [
    "df_docs.head(15)"
   ]
  },
  {
   "cell_type": "code",
   "execution_count": 27,
   "metadata": {},
   "outputs": [],
   "source": [
    "dfj = DataFrame()\n",
    "dfj['json'] = df_docs.apply(lambda x: x.to_json(), axis=1)"
   ]
  },
  {
   "cell_type": "code",
   "execution_count": 37,
   "metadata": {},
   "outputs": [
    {
     "name": "stdout",
     "output_type": "stream",
     "text": [
      "{\"p_name\":\"Boris Gromov\",\"doc_number\":\"100059287\",\"resident\":\"Russia\"}\n"
     ]
    }
   ],
   "source": [
    "print(dfj.iloc[2]['json'])"
   ]
  },
  {
   "cell_type": "code",
   "execution_count": null,
   "metadata": {},
   "outputs": [],
   "source": []
  }
 ],
 "metadata": {
  "kernelspec": {
   "display_name": "Python 3",
   "language": "python",
   "name": "python3"
  },
  "language_info": {
   "codemirror_mode": {
    "name": "ipython",
    "version": 3
   },
   "file_extension": ".py",
   "mimetype": "text/x-python",
   "name": "python",
   "nbconvert_exporter": "python",
   "pygments_lexer": "ipython3",
   "version": "3.6.5"
  },
  "varInspector": {
   "cols": {
    "lenName": 16,
    "lenType": 16,
    "lenVar": 40
   },
   "kernels_config": {
    "python": {
     "delete_cmd_postfix": "",
     "delete_cmd_prefix": "del ",
     "library": "var_list.py",
     "varRefreshCmd": "print(var_dic_list())"
    },
    "r": {
     "delete_cmd_postfix": ") ",
     "delete_cmd_prefix": "rm(",
     "library": "var_list.r",
     "varRefreshCmd": "cat(var_dic_list()) "
    }
   },
   "types_to_exclude": [
    "module",
    "function",
    "builtin_function_or_method",
    "instance",
    "_Feature"
   ],
   "window_display": false
  }
 },
 "nbformat": 4,
 "nbformat_minor": 1
}
